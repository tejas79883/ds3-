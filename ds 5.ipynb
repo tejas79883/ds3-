{
 "cells": [
  {
   "cell_type": "markdown",
   "id": "753ae93c-0649-4538-84a9-c282026f8288",
   "metadata": {},
   "source": [
    "5) Data Analytics II\n",
    "1. Implement logistic regression using Python/R to perform classification on \n",
    "Social_Network_Ads.csv dataset.\n",
    "2. Compute Confusion matrix to find TP, FP, TN, FN, Accuracy, Error rate, Precision, Recall\n",
    "on the given dataset."
   ]
  },
  {
   "cell_type": "code",
   "execution_count": 30,
   "id": "80a10d1d",
   "metadata": {},
   "outputs": [],
   "source": [
    "import pandas as pd\n",
    "import numpy as np\n",
    "import matplotlib.pyplot as plt"
   ]
  },
  {
   "cell_type": "code",
   "execution_count": 31,
   "id": "0f14dfd8",
   "metadata": {},
   "outputs": [
    {
     "data": {
      "text/html": [
       "<div>\n",
       "<style scoped>\n",
       "    .dataframe tbody tr th:only-of-type {\n",
       "        vertical-align: middle;\n",
       "    }\n",
       "\n",
       "    .dataframe tbody tr th {\n",
       "        vertical-align: top;\n",
       "    }\n",
       "\n",
       "    .dataframe thead th {\n",
       "        text-align: right;\n",
       "    }\n",
       "</style>\n",
       "<table border=\"1\" class=\"dataframe\">\n",
       "  <thead>\n",
       "    <tr style=\"text-align: right;\">\n",
       "      <th></th>\n",
       "      <th>User ID</th>\n",
       "      <th>Gender</th>\n",
       "      <th>Age</th>\n",
       "      <th>EstimatedSalary</th>\n",
       "      <th>Purchased</th>\n",
       "    </tr>\n",
       "  </thead>\n",
       "  <tbody>\n",
       "    <tr>\n",
       "      <th>0</th>\n",
       "      <td>15624510</td>\n",
       "      <td>Male</td>\n",
       "      <td>19</td>\n",
       "      <td>19000</td>\n",
       "      <td>0</td>\n",
       "    </tr>\n",
       "    <tr>\n",
       "      <th>1</th>\n",
       "      <td>15810944</td>\n",
       "      <td>Male</td>\n",
       "      <td>35</td>\n",
       "      <td>20000</td>\n",
       "      <td>0</td>\n",
       "    </tr>\n",
       "    <tr>\n",
       "      <th>2</th>\n",
       "      <td>15668575</td>\n",
       "      <td>Female</td>\n",
       "      <td>26</td>\n",
       "      <td>43000</td>\n",
       "      <td>0</td>\n",
       "    </tr>\n",
       "    <tr>\n",
       "      <th>3</th>\n",
       "      <td>15603246</td>\n",
       "      <td>Female</td>\n",
       "      <td>27</td>\n",
       "      <td>57000</td>\n",
       "      <td>0</td>\n",
       "    </tr>\n",
       "    <tr>\n",
       "      <th>4</th>\n",
       "      <td>15804002</td>\n",
       "      <td>Male</td>\n",
       "      <td>19</td>\n",
       "      <td>76000</td>\n",
       "      <td>0</td>\n",
       "    </tr>\n",
       "    <tr>\n",
       "      <th>...</th>\n",
       "      <td>...</td>\n",
       "      <td>...</td>\n",
       "      <td>...</td>\n",
       "      <td>...</td>\n",
       "      <td>...</td>\n",
       "    </tr>\n",
       "    <tr>\n",
       "      <th>395</th>\n",
       "      <td>15691863</td>\n",
       "      <td>Female</td>\n",
       "      <td>46</td>\n",
       "      <td>41000</td>\n",
       "      <td>1</td>\n",
       "    </tr>\n",
       "    <tr>\n",
       "      <th>396</th>\n",
       "      <td>15706071</td>\n",
       "      <td>Male</td>\n",
       "      <td>51</td>\n",
       "      <td>23000</td>\n",
       "      <td>1</td>\n",
       "    </tr>\n",
       "    <tr>\n",
       "      <th>397</th>\n",
       "      <td>15654296</td>\n",
       "      <td>Female</td>\n",
       "      <td>50</td>\n",
       "      <td>20000</td>\n",
       "      <td>1</td>\n",
       "    </tr>\n",
       "    <tr>\n",
       "      <th>398</th>\n",
       "      <td>15755018</td>\n",
       "      <td>Male</td>\n",
       "      <td>36</td>\n",
       "      <td>33000</td>\n",
       "      <td>0</td>\n",
       "    </tr>\n",
       "    <tr>\n",
       "      <th>399</th>\n",
       "      <td>15594041</td>\n",
       "      <td>Female</td>\n",
       "      <td>49</td>\n",
       "      <td>36000</td>\n",
       "      <td>1</td>\n",
       "    </tr>\n",
       "  </tbody>\n",
       "</table>\n",
       "<p>400 rows × 5 columns</p>\n",
       "</div>"
      ],
      "text/plain": [
       "      User ID  Gender  Age  EstimatedSalary  Purchased\n",
       "0    15624510    Male   19            19000          0\n",
       "1    15810944    Male   35            20000          0\n",
       "2    15668575  Female   26            43000          0\n",
       "3    15603246  Female   27            57000          0\n",
       "4    15804002    Male   19            76000          0\n",
       "..        ...     ...  ...              ...        ...\n",
       "395  15691863  Female   46            41000          1\n",
       "396  15706071    Male   51            23000          1\n",
       "397  15654296  Female   50            20000          1\n",
       "398  15755018    Male   36            33000          0\n",
       "399  15594041  Female   49            36000          1\n",
       "\n",
       "[400 rows x 5 columns]"
      ]
     },
     "execution_count": 31,
     "metadata": {},
     "output_type": "execute_result"
    }
   ],
   "source": [
    "df = pd.read_csv('Social_Network_Ads.csv')\n",
    "df"
   ]
  },
  {
   "cell_type": "code",
   "execution_count": 32,
   "id": "fc14ee5f",
   "metadata": {},
   "outputs": [
    {
     "data": {
      "text/html": [
       "<div>\n",
       "<style scoped>\n",
       "    .dataframe tbody tr th:only-of-type {\n",
       "        vertical-align: middle;\n",
       "    }\n",
       "\n",
       "    .dataframe tbody tr th {\n",
       "        vertical-align: top;\n",
       "    }\n",
       "\n",
       "    .dataframe thead th {\n",
       "        text-align: right;\n",
       "    }\n",
       "</style>\n",
       "<table border=\"1\" class=\"dataframe\">\n",
       "  <thead>\n",
       "    <tr style=\"text-align: right;\">\n",
       "      <th></th>\n",
       "      <th>User ID</th>\n",
       "      <th>Gender</th>\n",
       "      <th>Age</th>\n",
       "      <th>EstimatedSalary</th>\n",
       "      <th>Purchased</th>\n",
       "    </tr>\n",
       "  </thead>\n",
       "  <tbody>\n",
       "    <tr>\n",
       "      <th>0</th>\n",
       "      <td>15624510</td>\n",
       "      <td>Male</td>\n",
       "      <td>19</td>\n",
       "      <td>19000</td>\n",
       "      <td>0</td>\n",
       "    </tr>\n",
       "    <tr>\n",
       "      <th>1</th>\n",
       "      <td>15810944</td>\n",
       "      <td>Male</td>\n",
       "      <td>35</td>\n",
       "      <td>20000</td>\n",
       "      <td>0</td>\n",
       "    </tr>\n",
       "    <tr>\n",
       "      <th>2</th>\n",
       "      <td>15668575</td>\n",
       "      <td>Female</td>\n",
       "      <td>26</td>\n",
       "      <td>43000</td>\n",
       "      <td>0</td>\n",
       "    </tr>\n",
       "    <tr>\n",
       "      <th>3</th>\n",
       "      <td>15603246</td>\n",
       "      <td>Female</td>\n",
       "      <td>27</td>\n",
       "      <td>57000</td>\n",
       "      <td>0</td>\n",
       "    </tr>\n",
       "    <tr>\n",
       "      <th>4</th>\n",
       "      <td>15804002</td>\n",
       "      <td>Male</td>\n",
       "      <td>19</td>\n",
       "      <td>76000</td>\n",
       "      <td>0</td>\n",
       "    </tr>\n",
       "  </tbody>\n",
       "</table>\n",
       "</div>"
      ],
      "text/plain": [
       "    User ID  Gender  Age  EstimatedSalary  Purchased\n",
       "0  15624510    Male   19            19000          0\n",
       "1  15810944    Male   35            20000          0\n",
       "2  15668575  Female   26            43000          0\n",
       "3  15603246  Female   27            57000          0\n",
       "4  15804002    Male   19            76000          0"
      ]
     },
     "execution_count": 32,
     "metadata": {},
     "output_type": "execute_result"
    }
   ],
   "source": [
    "df.head()"
   ]
  },
  {
   "cell_type": "code",
   "execution_count": 33,
   "id": "58bfa247",
   "metadata": {},
   "outputs": [
    {
     "data": {
      "text/plain": [
       "Index(['User ID', 'Gender', 'Age', 'EstimatedSalary', 'Purchased'], dtype='object')"
      ]
     },
     "execution_count": 33,
     "metadata": {},
     "output_type": "execute_result"
    }
   ],
   "source": [
    "df.columns"
   ]
  },
  {
   "cell_type": "code",
   "execution_count": 34,
   "id": "0da4bd08",
   "metadata": {},
   "outputs": [
    {
     "data": {
      "text/plain": [
       "User ID            0\n",
       "Gender             0\n",
       "Age                0\n",
       "EstimatedSalary    0\n",
       "Purchased          0\n",
       "dtype: int64"
      ]
     },
     "execution_count": 34,
     "metadata": {},
     "output_type": "execute_result"
    }
   ],
   "source": [
    "df.isnull().sum()"
   ]
  },
  {
   "cell_type": "code",
   "execution_count": 35,
   "id": "6c7086d8",
   "metadata": {},
   "outputs": [],
   "source": [
    "numeric_columns = df.select_dtypes(include=np.number)\n",
    "covariance_matrix = numeric_columns.cov()\n"
   ]
  },
  {
   "cell_type": "code",
   "execution_count": 36,
   "id": "2909b0d5",
   "metadata": {},
   "outputs": [],
   "source": [
    "most_promising_features = covariance_matrix.index[covariance_matrix.abs().sum().argsort()[::-1]]"
   ]
  },
  {
   "cell_type": "code",
   "execution_count": 37,
   "id": "15c3acf1",
   "metadata": {},
   "outputs": [
    {
     "name": "stdout",
     "output_type": "stream",
     "text": [
      "Index(['User ID', 'EstimatedSalary', 'Age', 'Purchased'], dtype='object')\n"
     ]
    }
   ],
   "source": [
    "print(most_promising_features)"
   ]
  },
  {
   "cell_type": "code",
   "execution_count": 38,
   "id": "fb50ae1e",
   "metadata": {},
   "outputs": [],
   "source": [
    "X = df.drop('EstimatedSalary', axis=1)"
   ]
  },
  {
   "cell_type": "code",
   "execution_count": 39,
   "id": "e717d838",
   "metadata": {},
   "outputs": [],
   "source": [
    "Y = df['Age']"
   ]
  },
  {
   "cell_type": "code",
   "execution_count": 40,
   "id": "d5fff202",
   "metadata": {},
   "outputs": [
    {
     "name": "stdout",
     "output_type": "stream",
     "text": [
      "    User ID  Gender  Age  Purchased\n",
      "0  15624510    Male   19          0\n",
      "1  15810944    Male   35          0\n",
      "2  15668575  Female   26          0\n",
      "3  15603246  Female   27          0\n",
      "4  15804002    Male   19          0\n"
     ]
    }
   ],
   "source": [
    "print(X.head())"
   ]
  },
  {
   "cell_type": "code",
   "execution_count": 41,
   "id": "4ed260f8",
   "metadata": {},
   "outputs": [
    {
     "name": "stdout",
     "output_type": "stream",
     "text": [
      "0    19\n",
      "1    35\n",
      "2    26\n",
      "3    27\n",
      "4    19\n",
      "Name: Age, dtype: int64\n"
     ]
    }
   ],
   "source": [
    "print(Y.head())"
   ]
  },
  {
   "cell_type": "code",
   "execution_count": 42,
   "id": "1a8b27d5",
   "metadata": {},
   "outputs": [],
   "source": [
    "from sklearn.model_selection import train_test_split\n"
   ]
  },
  {
   "cell_type": "code",
   "execution_count": 43,
   "id": "f9f18203",
   "metadata": {},
   "outputs": [],
   "source": [
    "X_train, X_test, Y_train, Y_test = train_test_split(X, Y, test_size=0.2, random_state=42)"
   ]
  },
  {
   "cell_type": "code",
   "execution_count": 44,
   "id": "218c9576",
   "metadata": {},
   "outputs": [],
   "source": [
    "from sklearn.preprocessing import StandardScaler"
   ]
  },
  {
   "cell_type": "code",
   "execution_count": 45,
   "id": "b039312a",
   "metadata": {},
   "outputs": [],
   "source": [
    "scaler = StandardScaler()"
   ]
  },
  {
   "cell_type": "code",
   "execution_count": 46,
   "id": "c6762830",
   "metadata": {},
   "outputs": [],
   "source": [
    "from sklearn.preprocessing import LabelEncoder\n",
    "\n",
    "# Initialize LabelEncoder\n",
    "label_encoder = LabelEncoder()\n",
    "\n",
    "# Apply label encoding to the 'Gender' column in X_train\n",
    "X_train['Gender'] = label_encoder.fit_transform(X_train['Gender'])\n",
    "\n",
    "# Now you can proceed with scaling\n",
    "X_train_scaled = scaler.fit_transform(X_train)\n",
    "\n"
   ]
  },
  {
   "cell_type": "code",
   "execution_count": 47,
   "id": "14728243",
   "metadata": {},
   "outputs": [],
   "source": [
    "# Apply label encoding to the 'Gender' column in X_test using the same label encoder\n",
    "X_test['Gender'] = label_encoder.transform(X_test['Gender'])\n",
    "\n",
    "# Now you can proceed with scaling\n",
    "X_test_scaled = scaler.transform(X_test)\n"
   ]
  },
  {
   "cell_type": "code",
   "execution_count": 48,
   "id": "d36d9718",
   "metadata": {},
   "outputs": [
    {
     "data": {
      "text/plain": [
       "array([[ 0.11630156, -1.        ,  0.79753468, -0.74898305],\n",
       "       [-1.10486346, -1.        ,  2.07309956,  1.3351437 ],\n",
       "       [ 1.21993527, -1.        , -0.96863208, -0.74898305],\n",
       "       [ 0.49358178, -1.        ,  0.99377543,  1.3351437 ],\n",
       "       [ 0.14218461, -1.        , -0.87051171, -0.74898305],\n",
       "       [ 1.5250491 , -1.        , -0.77239133, -0.74898305],\n",
       "       [-0.68868909, -1.        ,  0.89565505,  1.3351437 ],\n",
       "       [ 1.36270951, -1.        , -0.87051171, -0.74898305],\n",
       "       [ 0.4526142 ,  1.        ,  0.20881242, -0.74898305],\n",
       "       [-1.08911099,  1.        ,  0.40505317, -0.74898305],\n",
       "       [ 0.53219762, -1.        , -0.28178945, -0.74898305],\n",
       "       [ 1.24911632, -1.        ,  1.4843773 ,  1.3351437 ],\n",
       "       [ 1.20364008, -1.        , -1.45923396, -0.74898305],\n",
       "       [-1.3058189 , -1.        , -1.75359508, -0.74898305],\n",
       "       [ 0.50922294,  1.        , -0.77239133, -0.74898305],\n",
       "       [ 1.16517732,  1.        , -0.28178945, -0.74898305],\n",
       "       [-1.05831572, -1.        ,  1.38625693,  1.3351437 ],\n",
       "       [-1.28138307, -1.        ,  0.79753468, -0.74898305],\n",
       "       [ 0.07495826,  1.        ,  0.11069205, -0.74898305],\n",
       "       [ 1.20048124,  1.        ,  1.77873843,  1.3351437 ],\n",
       "       [ 1.18439479, -1.        , -1.55735433, -0.74898305],\n",
       "       [ 0.11994745,  1.        , -0.87051171, -0.74898305],\n",
       "       [-1.34280661,  1.        ,  0.89565505,  1.3351437 ],\n",
       "       [-0.01244574, -1.        ,  2.07309956,  1.3351437 ],\n",
       "       [-0.89834178,  1.        , -1.85171546, -0.74898305],\n",
       "       [ 0.2366299 ,  1.        ,  1.28813655,  1.3351437 ],\n",
       "       [ 0.69708377,  1.        ,  0.40505317, -0.74898305],\n",
       "       [-0.93089041,  1.        , -0.0855487 , -0.74898305],\n",
       "       [-0.22606438, -1.        ,  1.68061805,  1.3351437 ],\n",
       "       [-0.23622278, -1.        , -1.85171546, -0.74898305],\n",
       "       [ 0.03891681, -1.        ,  0.79753468,  1.3351437 ],\n",
       "       [-0.36410731,  1.        , -1.85171546, -0.74898305],\n",
       "       [-0.1179957 ,  1.        , -0.18366908,  1.3351437 ],\n",
       "       [ 1.64781268,  1.        , -0.96863208, -0.74898305],\n",
       "       [ 1.72618544,  1.        ,  0.20881242,  1.3351437 ],\n",
       "       [-0.13594684,  1.        , -0.28178945, -0.74898305],\n",
       "       [ 1.17420855,  1.        , -0.0855487 , -0.74898305],\n",
       "       [ 0.39650643, -1.        ,  0.01257167, -0.74898305],\n",
       "       [ 1.02333543,  1.        , -1.16487283, -0.74898305],\n",
       "       [-0.31902071, -1.        , -1.94983583, -0.74898305],\n",
       "       [-0.25676224,  1.        ,  0.99377543,  1.3351437 ],\n",
       "       [-0.55565579, -1.        , -1.36111358, -0.74898305],\n",
       "       [ 0.80252241,  1.        , -1.94983583, -0.74898305],\n",
       "       [-0.80581684,  1.        ,  0.89565505,  1.3351437 ],\n",
       "       [ 0.28401258,  1.        , -1.75359508, -0.74898305],\n",
       "       [ 0.36953797, -1.        ,  0.60129393,  1.3351437 ],\n",
       "       [ 1.26347724,  1.        , -0.87051171, -0.74898305],\n",
       "       [ 1.19202054, -1.        , -0.67427095, -0.74898305],\n",
       "       [ 0.35612331,  1.        ,  0.99377543,  1.3351437 ],\n",
       "       [-1.49470949, -1.        , -0.37990983, -0.74898305],\n",
       "       [ 1.52770699,  1.        , -1.26299321, -0.74898305],\n",
       "       [-1.08368389, -1.        ,  1.4843773 ,  1.3351437 ],\n",
       "       [ 1.69399862, -1.        ,  0.01257167, -0.74898305],\n",
       "       [ 0.94439213,  1.        , -1.26299321, -0.74898305],\n",
       "       [ 1.45868552, -1.        , -0.0855487 , -0.74898305],\n",
       "       [ 1.30444482, -1.        , -1.06675246, -0.74898305],\n",
       "       [-1.32687323,  1.        ,  2.17121993,  1.3351437 ],\n",
       "       [ 1.46941446, -1.        , -1.16487283, -0.74898305],\n",
       "       [-1.50105501,  1.        , -0.67427095, -0.74898305],\n",
       "       [ 0.14166973,  1.        , -0.67427095, -0.74898305],\n",
       "       [-0.15165758, -1.        ,  0.3069328 , -0.74898305],\n",
       "       [-1.70295671, -1.        , -0.28178945, -0.74898305],\n",
       "       [ 0.84870834, -1.        ,  1.38625693,  1.3351437 ],\n",
       "       [-0.30337955, -1.        , -0.96863208, -0.74898305],\n",
       "       [-1.33662808,  1.        , -0.96863208, -0.74898305],\n",
       "       [ 0.55645254, -1.        , -1.06675246,  1.3351437 ],\n",
       "       [-1.41448596, -1.        ,  0.40505317,  1.3351437 ],\n",
       "       [ 0.79509147, -1.        ,  0.89565505,  1.3351437 ],\n",
       "       [ 0.95413306, -1.        ,  0.11069205, -0.74898305],\n",
       "       [ 1.30060411, -1.        , -0.4780302 , -0.74898305],\n",
       "       [ 1.19403831, -1.        ,  1.38625693,  1.3351437 ],\n",
       "       [ 1.65376857,  1.        , -1.85171546, -0.74898305],\n",
       "       [ 0.55254225,  1.        , -1.06675246, -0.74898305],\n",
       "       [-0.69284986,  1.        , -1.45923396, -0.74898305],\n",
       "       [-0.23289695,  1.        ,  0.89565505,  1.3351437 ],\n",
       "       [-0.71057836, -1.        , -0.28178945, -0.74898305],\n",
       "       [-0.05177127,  1.        ,  1.77873843,  1.3351437 ],\n",
       "       [-0.89493246, -1.        ,  1.58249768,  1.3351437 ],\n",
       "       [-1.10508611, -1.        , -0.28178945, -0.74898305],\n",
       "       [ 0.34574226, -1.        , -0.0855487 ,  1.3351437 ]])"
      ]
     },
     "execution_count": 48,
     "metadata": {},
     "output_type": "execute_result"
    }
   ],
   "source": [
    "X_test_scaled"
   ]
  },
  {
   "cell_type": "code",
   "execution_count": 49,
   "id": "58f81c64",
   "metadata": {},
   "outputs": [
    {
     "data": {
      "text/plain": [
       "array([[-1.19424348, -1.        , -1.06675246, -0.74898305],\n",
       "       [ 0.21592346,  1.        ,  0.79753468,  1.3351437 ],\n",
       "       [ 0.64683448, -1.        ,  0.11069205,  1.3351437 ],\n",
       "       ...,\n",
       "       [-0.11569962, -1.        ,  0.50317355, -0.74898305],\n",
       "       [-1.52869143,  1.        ,  0.11069205, -0.74898305],\n",
       "       [-1.45447944, -1.        , -0.57615058, -0.74898305]])"
      ]
     },
     "execution_count": 49,
     "metadata": {},
     "output_type": "execute_result"
    }
   ],
   "source": [
    "X_train_scaled"
   ]
  },
  {
   "cell_type": "code",
   "execution_count": 50,
   "id": "49fe46d4",
   "metadata": {},
   "outputs": [],
   "source": [
    "from sklearn.preprocessing import StandardScaler\n",
    "from sklearn.linear_model import LogisticRegression\n",
    "\n",
    "# Initialize the scaler\n",
    "scaler = StandardScaler()\n",
    "\n",
    "# Fit and transform the training data\n",
    "X_train_scaled = scaler.fit_transform(X_train)\n",
    "\n",
    "# Transform the testing data\n",
    "X_test_scaled = scaler.transform(X_test)\n",
    "\n",
    "# Initialize and fit the logistic regression model\n",
    "logreg = LogisticRegression()\n",
    "logreg.fit(X_train_scaled, Y_train)\n",
    "\n",
    "# Predict using the fitted model\n",
    "y_pred = logreg.predict(X_test_scaled)\n",
    "\n"
   ]
  },
  {
   "cell_type": "code",
   "execution_count": 51,
   "id": "2148950a",
   "metadata": {},
   "outputs": [],
   "source": [
    "logreg = LogisticRegression(max_iter=1000)\n"
   ]
  },
  {
   "cell_type": "code",
   "execution_count": 52,
   "id": "4d5696ed",
   "metadata": {},
   "outputs": [],
   "source": [
    "from sklearn.preprocessing import StandardScaler\n",
    "\n",
    "scaler = StandardScaler()\n",
    "X_train_scaled = scaler.fit_transform(X_train)\n",
    "X_test_scaled = scaler.transform(X_test)\n",
    "\n",
    "logreg = LogisticRegression()\n",
    "logreg.fit(X_train_scaled, Y_train)\n",
    "\n",
    "Y_train_pred = logreg.predict(X_train_scaled)\n",
    "Y_test_pred = logreg.predict(X_test_scaled)\n"
   ]
  },
  {
   "cell_type": "code",
   "execution_count": 53,
   "id": "1a1e819d",
   "metadata": {},
   "outputs": [],
   "source": [
    "logreg = LogisticRegression(solver='saga')\n"
   ]
  },
  {
   "cell_type": "code",
   "execution_count": 54,
   "id": "6f11308d",
   "metadata": {},
   "outputs": [],
   "source": [
    "import warnings\n",
    "from sklearn.metrics import accuracy_score, precision_score, recall_score, f1_score\n",
    "from sklearn.exceptions import UndefinedMetricWarning\n",
    "\n",
    "# Ignore the warning messages\n",
    "warnings.filterwarnings(\"ignore\", category=UndefinedMetricWarning)\n",
    "\n",
    "# Calculate accuracy for training set\n",
    "train_accuracy = accuracy_score(Y_train, Y_train_pred)\n",
    "\n",
    "# Calculate accuracy for testing set\n",
    "test_accuracy = accuracy_score(Y_test, y_pred)\n",
    "\n",
    "# Calculate precision for training set\n",
    "train_precision = precision_score(Y_train, Y_train_pred, average='weighted', zero_division=1)\n",
    "\n",
    "# Calculate precision for testing set\n",
    "test_precision = precision_score(Y_test, y_pred, average='weighted', zero_division=1)\n",
    "\n",
    "# Calculate recall for training set\n",
    "train_recall = recall_score(Y_train, Y_train_pred, average='weighted', zero_division=1)\n",
    "\n",
    "# Calculate recall for testing set\n",
    "test_recall = recall_score(Y_test, y_pred, average='weighted', zero_division=1)\n",
    "\n",
    "# Calculate F1 score for training set\n",
    "train_f1_score = f1_score(Y_train, Y_train_pred, average='weighted', zero_division=1)\n",
    "\n",
    "# Calculate F1 score for testing set\n",
    "test_f1_score = f1_score(Y_test, y_pred, average='weighted', zero_division=1)\n"
   ]
  },
  {
   "cell_type": "code",
   "execution_count": 55,
   "id": "0551cab6",
   "metadata": {},
   "outputs": [],
   "source": [
    "from sklearn.metrics import precision_score, recall_score, f1_score\n",
    "\n",
    "# Calculate precision\n",
    "precision = precision_score(Y_test, y_pred, average='micro')\n",
    "\n",
    "# Calculate recall\n",
    "recall = recall_score(Y_test, y_pred, average='micro')\n",
    "\n",
    "# Calculate F1 score\n",
    "f1_score = f1_score(Y_test, y_pred, average='micro')\n",
    "\n"
   ]
  },
  {
   "cell_type": "code",
   "execution_count": 56,
   "id": "f84d1876",
   "metadata": {},
   "outputs": [],
   "source": [
    "from sklearn.metrics import confusion_matrix\n",
    "\n",
    "cm = confusion_matrix(Y_test, y_pred)\n"
   ]
  },
  {
   "cell_type": "code",
   "execution_count": 58,
   "id": "dba48aa2",
   "metadata": {},
   "outputs": [
    {
     "data": {
      "text/plain": [
       "array([[0, 0, 0, ..., 0, 0, 0],\n",
       "       [0, 0, 0, ..., 0, 0, 0],\n",
       "       [0, 0, 0, ..., 0, 0, 0],\n",
       "       ...,\n",
       "       [0, 0, 0, ..., 0, 0, 0],\n",
       "       [0, 0, 0, ..., 2, 0, 0],\n",
       "       [0, 0, 0, ..., 0, 0, 1]], dtype=int64)"
      ]
     },
     "execution_count": 58,
     "metadata": {},
     "output_type": "execute_result"
    }
   ],
   "source": [
    "cm"
   ]
  },
  {
   "cell_type": "code",
   "execution_count": null,
   "id": "f4eb8d16-4da5-48f9-8916-44ae6b59aa7b",
   "metadata": {},
   "outputs": [],
   "source": []
  }
 ],
 "metadata": {
  "kernelspec": {
   "display_name": "Python 3 (ipykernel)",
   "language": "python",
   "name": "python3"
  },
  "language_info": {
   "codemirror_mode": {
    "name": "ipython",
    "version": 3
   },
   "file_extension": ".py",
   "mimetype": "text/x-python",
   "name": "python",
   "nbconvert_exporter": "python",
   "pygments_lexer": "ipython3",
   "version": "3.11.7"
  }
 },
 "nbformat": 4,
 "nbformat_minor": 5
}
